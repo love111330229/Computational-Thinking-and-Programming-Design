{
  "nbformat": 4,
  "nbformat_minor": 0,
  "metadata": {
    "colab": {
      "name": "A106260018 張鈞茹 選擇題.ipynb",
      "provenance": [],
      "include_colab_link": true
    },
    "kernelspec": {
      "name": "python3",
      "display_name": "Python 3"
    }
  },
  "cells": [
    {
      "cell_type": "markdown",
      "metadata": {
        "id": "view-in-github",
        "colab_type": "text"
      },
      "source": [
        "<a href=\"https://colab.research.google.com/github/love111330229/Computational-Thinking-and-Programming-Design/blob/master/A106260018_%E5%BC%B5%E9%88%9E%E8%8C%B9_%E9%81%B8%E6%93%87%E9%A1%8C.ipynb\" target=\"_parent\"><img src=\"https://colab.research.google.com/assets/colab-badge.svg\" alt=\"Open In Colab\"/></a>"
      ]
    },
    {
      "cell_type": "code",
      "metadata": {
        "id": "0Dkdv2CyjXqO",
        "colab_type": "code",
        "colab": {
          "base_uri": "https://localhost:8080/",
          "height": 139
        },
        "outputId": "ac9cf17c-f529-443e-c904-4a9dc6ebb841"
      },
      "source": [
        "# 1. 下列何者代表 Python 的註解？　(A) //　(B) #　(C) /*　(D)@。\n",
        "print(\"B\")\n",
        "# 2. 在 Python 程式語⾔中，下列何者的變數名稱是正確的？ (A)_if (B) if (C)in (D) 2f。\n",
        "print(\"A\")\n",
        "# 3. 有⼀敘述a = 5/2 + 5//2 + 2 ** 3 + 5 % 2，試問 a 的值為何?(A) 13.5　(B) 14　(C) 14.5 (D) 15\n",
        "print(\"A\")\n",
        "# 4. 試問下列哪⼀個為偽?(A) a = a + 1和 a += 1具有⼀樣的功能 (B) a =+ 1 表⽰ a = a +1 (C) 若 a = 5，則 //= 2，最後的a為2 (D) a, b = 100, 200，表⽰a為100，b為200，這表⽰可以指定多個變數\n",
        "print(\"B\")\n",
        "# 5. 試問下列敘述何者為偽?(A) 運算⼦是⼀符號，其具有特定的功能 (B) 運算⼦ =，表⽰指定的意思，和數學的相等是不⼀樣的 (C) 運算⼦ //，表⽰整數除法，亦即 9 // 2，其結果為4 (D) a = a + 1和 a++的結果是⼀樣的\n",
        "print(\"C\")\n",
        "# 6. 假設利⽤ num = input() 輸入10，再執⾏ a = num + 100，試問其a值為 (A) 110　(B) 120　(C) 130　(D) 產⽣錯誤訊息\n",
        "print(\"A\")\n",
        "# 7. 在 Python 程式語⾔中，利⽤ input 指令讀到的值，型態為？ (A) 數值 (B) 字串 (C) 浮點數 (D) 以上皆否。\n",
        "print(\"C\")"
      ],
      "execution_count": 1,
      "outputs": [
        {
          "output_type": "stream",
          "text": [
            "B\n",
            "A\n",
            "A\n",
            "B\n",
            "C\n",
            "A\n",
            "C\n"
          ],
          "name": "stdout"
        }
      ]
    }
  ]
}