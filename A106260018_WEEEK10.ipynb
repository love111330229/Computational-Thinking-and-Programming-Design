{
  "nbformat": 4,
  "nbformat_minor": 0,
  "metadata": {
    "colab": {
      "name": "A106260018 WEEEK10.ipynb",
      "provenance": [],
      "include_colab_link": true
    },
    "kernelspec": {
      "name": "python3",
      "display_name": "Python 3"
    }
  },
  "cells": [
    {
      "cell_type": "markdown",
      "metadata": {
        "id": "view-in-github",
        "colab_type": "text"
      },
      "source": [
        "<a href=\"https://colab.research.google.com/github/love111330229/Computational-Thinking-and-Programming-Design/blob/master/A106260018_WEEEK10.ipynb\" target=\"_parent\"><img src=\"https://colab.research.google.com/assets/colab-badge.svg\" alt=\"Open In Colab\"/></a>"
      ]
    },
    {
      "cell_type": "code",
      "metadata": {
        "id": "fh49jaq1R0Sf",
        "colab_type": "code",
        "colab": {
          "base_uri": "https://localhost:8080/",
          "height": 391
        },
        "outputId": "096d6113-3d98-4732-c09b-9145fb5b0a8e"
      },
      "source": [
        "# 解題1: 輸入遊戲情境相關資訊\n",
        "print(\"You are on a deserted island in a 2D world.\")\n",
        "print(\"Try to survive until rescue arrives!\")\n",
        "print(\"Available commands are in CAPITAL letters.\")\n",
        "print(\"Any other command exits the program\")\n",
        "print(\"First LOOK around...\") #若要玩遊戲，就四⾯看看，打LOOK\n",
        "\n",
        "\n",
        "#解題2: 先看看周圍，只有兩個指令的冒險旅程\n",
        "#輸入指令指派給變數do\n",
        "do = input(\":: \")\n",
        "\n",
        "#若輸入LOOK後提⽰後續指令\n",
        "if do == \"LOOK\": #描述情境並決定往哪爬\n",
        "    print(\"You are stuck in a sand ditch.\") #被困沙溝\n",
        "    print(\"Crawl out LEFT or RIGHT.\") #選擇向左或向右，打LEFT/RIGHT\n",
        "\n",
        "    #輸入分⽀指令I-LEFT/RIGHT\n",
        "    do = input(\":: \")\n",
        "    if do == \"LEFT\": #輸入LEFT指令的分⽀，有機會看到船並獲救\n",
        "        print(\"You see a STARFISH and a CRAB on the sand.\") #海星與螃蟹 STARFISH/CRAB\n",
        "        print(\"And you're hungry! Which do you eat?\")#要吃哪⼀個\n",
        "\n",
        "        #輸入指令指派給變數do\n",
        "        do = input(\":: \") #要吃那個\n",
        "        if do == \"STARFISH\": #吃海星\n",
        "            print(\"Oh no! You immediately don't feel well.\")\n",
        "            print(\"You do not survive :(\") #會死掉\n",
        "        elif do == \"CRAB\": #吃螃蟹\n",
        "            print(\"Raw crab should be fine, right? YES or NO.\") #吃⽣螃蟹好嗎 YES/NO\n",
        "\n",
        "            #輸入指令指派給變數do\n",
        "            do = input(\":: \") #要吃⽣螃蟹YES\n",
        "            if do == \"YES\":\n",
        "                print(\"Ok, You eat it raw. Fingers crossed.\")#好運氣\n",
        "                print(\"Food in your belly helps you see a TREE.\") #看到樹TREE\n",
        "\n",
        "                #輸入指令指派給變數do\n",
        "                do = input(\":: \") #看到⼀棵樹\n",
        "                if do == \"TREE\":\n",
        "                    print(\"It's a coconut tree! And you're thirsty!\") #椰⼦樹\n",
        "                    print(\"Do you drink the coconut water? YES or NO.\")#喝YES/NO\n",
        "\n",
        "                    #輸入指令指派給變數do\n",
        "                    do = input(\":: \")# 喝椰⼦⽔嗎？\n",
        "                    if do == \"YES\":\n",
        "                        print(\"Oh boy. Coconut water and raw crab don't mix.\")\n",
        "                        print(\"You do not survive :(\") #死掉\n",
        "                    elif do == \"NO\":\n",
        "                        print(\"Good choice.\")\n",
        "                        print(\"Look! It's a rescue plane! You made it! \\o/\") #最後看到船了\n",
        "            elif do == \"NO\":\n",
        "                  print(\"Well, there's nothing else left to eat.\")\n",
        "                  print(\"You do not survive :(\") #會死掉\n",
        "    elif do == \"RIGHT\": #輸入RIGHT指令的分⽀，最後會死掉\n",
        "        print(\"No can do. That side is very slippery.\") #處處濕滑\n",
        "        print(\"You fall very far into some weird cavern.\") #跌入洞穴\n",
        "        print(\"You do not survive :(\") #死掉\n",
        "else: #輸入提⽰外的指令，提醒重新輸入\n",
        "    print(\"You can only do actions shown in capital letters.\") #指令只能⽤⼤寫\n",
        "    print(\"Try again!\") #再試⼀次"
      ],
      "execution_count": 2,
      "outputs": [
        {
          "output_type": "stream",
          "text": [
            "You are on a deserted island in a 2D world.\n",
            "Try to survive until rescue arrives!\n",
            "Available commands are in CAPITAL letters.\n",
            "Any other command exits the program\n",
            "First LOOK around...\n",
            ":: LOOK\n",
            "You are stuck in a sand ditch.\n",
            "Crawl out LEFT or RIGHT.\n",
            ":: LEFT\n",
            "You see a STARFISH and a CRAB on the sand.\n",
            "And you're hungry! Which do you eat?\n",
            ":: CRAB\n",
            "Raw crab should be fine, right? YES or NO.\n",
            ":: YES\n",
            "Ok, You eat it raw. Fingers crossed.\n",
            "Food in your belly helps you see a TREE.\n",
            ":: TREE\n",
            "It's a coconut tree! And you're thirsty!\n",
            "Do you drink the coconut water? YES or NO.\n",
            ":: NO\n",
            "Good choice.\n",
            "Look! It's a rescue plane! You made it! \\o/\n"
          ],
          "name": "stdout"
        }
      ]
    },
    {
      "cell_type": "code",
      "metadata": {
        "colab_type": "code",
        "outputId": "9d8e8b59-fe08-4495-c9d7-0c32900a278f",
        "id": "Duo8THLhaT3z",
        "colab": {
          "base_uri": "https://localhost:8080/",
          "height": 289
        }
      },
      "source": [
        "# 解題1: 輸入遊戲情境相關資訊\n",
        "print(\"You live in 6th floor of a old apartment,and in the 2nd fioor have a fire now.\")\n",
        "print(\"Try to survive until rescue arrives!\")\n",
        "print(\"Available commands are in CAPITAL letters.\")\n",
        "print(\"Any other command exits the program\")\n",
        "print(\"First LOOK around...\") #若要玩遊戲，就四⾯看看，打LOOK\n",
        "\n",
        "\n",
        "#解題2: 先看看周圍，只有兩個指令的冒險旅程\n",
        "#輸入指令指派給變數do\n",
        "do = input(\":: \")\n",
        "\n",
        "#若輸入LOOK後提⽰後續指令\n",
        "if do == \"LOOK\": #描述情境並決定往哪爬\n",
        "    print(\"You are in living room.\") #人在客廳\n",
        "    print(\"You PROTECT NOSE AND RUN OUT or WAIT RESCUE IN HOME.\") #選擇掩鼻逃離或等待救援\n",
        "\n",
        "    #輸入分⽀指令I-逃 等\n",
        "    do = input(\":: \")\n",
        "    if do == \"WAIT RESCUE IN HOME\": #有機會獲救\n",
        "        print(\"Were do You want to waite?\") #要在哪等帶\n",
        "        print(\"BATHROOM or NEXT TO THE WINDOW\")#廁所或窗邊\n",
        "\n",
        "        #輸入指令指派給變數do\n",
        "        do = input(\":: \") #哪\n",
        "        if do == \"BATHROOM\": #廁所\n",
        "            print(\"Oh no! The fireighter can't find You,and the door of bathroom is burnt out .\")\n",
        "            print(\"You can't leaving the bathroom.\")\n",
        "            print(\"You do not survive இдஇ\") #會死掉\n",
        "        elif do == \"NEXT TO THE WINDOW\": #窗\n",
        "            print(\"The fireighter downstairs,do You will shout and pat the window? YES or NO.\") #呼救嗎 YES/NO\n",
        "\n",
        "            #輸入指令指派給變數do\n",
        "            do = input(\":: \") #乎救\n",
        "            if do == \"YES\":\n",
        "                        print(\"Good choice.\")\n",
        "                        print(\" You escaped from the fire!୧༼ ヘ ᗜ ヘ ༽୨\") #逃出\n",
        "            elif do == \"NO\":\n",
        "                print(\"The fireighter can't aware You,smoke spread into the house,than You faint.\")#暈了\n",
        "                print(\"You do not survive ಥ⌣ಥ\") #死\n",
        "           \n",
        "    elif do == \"PROTECT NOSE AND RUN OUT\": #逃\n",
        "        print(\"Stairwell is smoke.\") #樓梯都是煙\n",
        "        print(\"You can't breath.\") #無法呼吸\n",
        "        print(\"You do not survive  (ఠ్ఠ ˓̭ ఠ్ఠ)\") #死掉\n",
        "else: #輸入提⽰外的指令，提醒重新輸入\n",
        "    print(\"You can only do actions shown in CAPITAL letters.\") #指令只能⽤⼤寫\n",
        "    print(\"Try again!\") #再試⼀次"
      ],
      "execution_count": 7,
      "outputs": [
        {
          "output_type": "stream",
          "text": [
            "You live in 6th floor of a old apartment,and in the 2nd fioor have a fire now.\n",
            "Try to survive until rescue arrives!\n",
            "Available commands are in CAPITAL letters.\n",
            "Any other command exits the program\n",
            "First LOOK around...\n",
            ":: LOOK\n",
            "You are in living room.\n",
            "You PROTECT NOSE AND RUN OUT or WAIT RESCUE IN HOME.\n",
            ":: WAIT RESCUE IN HOME\n",
            "Were do You want to waite?\n",
            "BATHROOM or NEXT TO THE WINDOW\n",
            ":: NEXT TO THE WINDOW\n",
            "The fireighter downstairs,do You will shout and pat the window? YES or NO.\n",
            ":: YES\n",
            "Good choice.\n",
            " You escaped from the fire!୧༼ ヘ ᗜ ヘ ༽୨\n"
          ],
          "name": "stdout"
        }
      ]
    }
  ]
}