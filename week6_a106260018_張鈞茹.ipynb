{
  "nbformat": 4,
  "nbformat_minor": 0,
  "metadata": {
    "colab": {
      "name": "week6 a106260018 張鈞茹.ipynb",
      "provenance": [],
      "include_colab_link": true
    },
    "kernelspec": {
      "name": "python3",
      "display_name": "Python 3"
    }
  },
  "cells": [
    {
      "cell_type": "markdown",
      "metadata": {
        "id": "view-in-github",
        "colab_type": "text"
      },
      "source": [
        "<a href=\"https://colab.research.google.com/github/love111330229/Computational-Thinking-and-Programming-Design/blob/master/week6_a106260018_%E5%BC%B5%E9%88%9E%E8%8C%B9.ipynb\" target=\"_parent\"><img src=\"https://colab.research.google.com/assets/colab-badge.svg\" alt=\"Open In Colab\"/></a>"
      ]
    },
    {
      "cell_type": "code",
      "metadata": {
        "id": "DQjgV3kGIetq",
        "colab_type": "code",
        "colab": {}
      },
      "source": [
        "#int 取整數"
      ],
      "execution_count": 0,
      "outputs": []
    },
    {
      "cell_type": "code",
      "metadata": {
        "id": "iW1v35apNc4E",
        "colab_type": "code",
        "colab": {}
      },
      "source": [
        "#round四捨五入到整數位"
      ],
      "execution_count": 0,
      "outputs": []
    },
    {
      "cell_type": "code",
      "metadata": {
        "id": "wJMvJpnHNv_K",
        "colab_type": "code",
        "outputId": "b59fcd3e-18c3-433c-fad6-3502309cacd2",
        "colab": {
          "base_uri": "https://localhost:8080/",
          "height": 85
        }
      },
      "source": [
        "#123分鐘轉小時    方法1  使用浮點數運算方式，轉換為對應的小時數和分鐘數\n",
        "\n",
        "# 1. 變數初始化為分鐘數\n",
        "#分鐘轉換\n",
        "minutes_to_convert=123\n",
        "\n",
        "# 2. 變數轉換為小時數\n",
        "#小時小數=分鐘轉換/60\n",
        "hours_decimal=minutes_to_convert/60  #數學運算除以60\n",
        "#小時部分=取整數(小時小數)\n",
        "hours_part=int(hours_decimal)  #將浮點數結果轉換變數型別為整數\n",
        "\n",
        "# 3. 取得轉換後的分鐘數\n",
        "#分鐘小數=小時小數小時部分\n",
        "minutes_decimal=hours_decimal-hours_part   #浮點數減整數取得小數\n",
        "#分鐘部分=四捨五入到整數位(分鐘小數*60)\n",
        "minutes_part = round(minutes_decimal*60)   #數學運算乘60得分鐘數，在此要四捨五入才行\n",
        "\n",
        "# 4. 顯示結果\n",
        "print(\"Hours\")\n",
        "print(hours_part)\n",
        "print(\"Minutes\")\n",
        "print(minutes_part)"
      ],
      "execution_count": 0,
      "outputs": [
        {
          "output_type": "stream",
          "text": [
            "Hours\n",
            "2\n",
            "Minutes\n",
            "3\n"
          ],
          "name": "stdout"
        }
      ]
    },
    {
      "cell_type": "code",
      "metadata": {
        "id": "zuyW2_NUOzNd",
        "colab_type": "code",
        "outputId": "631bf8ca-8be9-4960-9454-e727f38c6088",
        "colab": {
          "base_uri": "https://localhost:8080/",
          "height": 85
        }
      },
      "source": [
        "#123分鐘轉小時    方法2  使用餘數運算，轉換成對應的小時數和分鐘數\n",
        "\n",
        "# initializing 初始化\n",
        "minutes_to_convert=123\n",
        "\n",
        "# getting the whole number of hours 得到全部小時數\n",
        "hours_decimal = minutes_to_convert/60\n",
        "hours_part = int(hours_decimal)\n",
        "\n",
        "# getting the whole number of minutes  得到全部分鐘數\n",
        "#下列餘數運算可以取得轉換後的分鐘數\n",
        "minutes_part = minutes_to_convert%60\n",
        "\n",
        "# printing the result  打印結果\n",
        "print(\"Hours\")\n",
        "print(hours_part)\n",
        "print(\"Minutes\")\n",
        "print(minutes_part)"
      ],
      "execution_count": 0,
      "outputs": [
        {
          "output_type": "stream",
          "text": [
            "Hours\n",
            "2\n",
            "Minutes\n",
            "3\n"
          ],
          "name": "stdout"
        }
      ]
    }
  ]
}