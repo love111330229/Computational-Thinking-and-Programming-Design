{
  "nbformat": 4,
  "nbformat_minor": 0,
  "metadata": {
    "colab": {
      "name": "week9 as106260018.ipynb",
      "provenance": [],
      "include_colab_link": true
    },
    "kernelspec": {
      "name": "python3",
      "display_name": "Python 3"
    }
  },
  "cells": [
    {
      "cell_type": "markdown",
      "metadata": {
        "id": "view-in-github",
        "colab_type": "text"
      },
      "source": [
        "<a href=\"https://colab.research.google.com/github/love111330229/Computational-Thinking-and-Programming-Design/blob/master/week9_as106260018.ipynb\" target=\"_parent\"><img src=\"https://colab.research.google.com/assets/colab-badge.svg\" alt=\"Open In Colab\"/></a>"
      ]
    },
    {
      "cell_type": "code",
      "metadata": {
        "id": "RaDC2fCIiici",
        "colab_type": "code",
        "colab": {
          "base_uri": "https://localhost:8080/",
          "height": 136
        },
        "outputId": "a8d8cf62-0071-4082-a6c1-51395bea3de3"
      },
      "source": [
        "a=int(input(\"輸入一個數字\"))\n",
        "print(a == 7)\n",
        "print(a != 7)\n",
        "print(a > 7)\n",
        "print(a >= 7)\n",
        "print(a < 7)\n",
        "print(a <= 7)"
      ],
      "execution_count": 8,
      "outputs": [
        {
          "output_type": "stream",
          "text": [
            "輸入一個數字6\n",
            "False\n",
            "True\n",
            "False\n",
            "False\n",
            "True\n",
            "True\n"
          ],
          "name": "stdout"
        }
      ]
    },
    {
      "cell_type": "code",
      "metadata": {
        "id": "3WV2os2BmRJR",
        "colab_type": "code",
        "colab": {
          "base_uri": "https://localhost:8080/",
          "height": 51
        },
        "outputId": "b78d440a-44fa-49f5-e76e-0f7d9a7c5522"
      },
      "source": [
        "score = int(input('請輸入一個成績?'))\n",
        "if score > 59:\n",
        " print('很好,請繼續保持下去')\n",
        "if score <= 59:\n",
        " print(\"請多多加油\")"
      ],
      "execution_count": 10,
      "outputs": [
        {
          "output_type": "stream",
          "text": [
            "請輸入一個成績?85\n",
            "很好,請繼續保持下去\n"
          ],
          "name": "stdout"
        }
      ]
    },
    {
      "cell_type": "code",
      "metadata": {
        "id": "xcAh0A86nLD0",
        "colab_type": "code",
        "colab": {
          "base_uri": "https://localhost:8080/",
          "height": 51
        },
        "outputId": "8ac39f1f-bc64-4114-cf84-9f699fcc0285"
      },
      "source": [
        "score = int(input('請輸入一個成績?'))\n",
        "if score > 59:\n",
        " print('有及格ㄡ~')\n",
        "else:\n",
        " print('不及格ㄟ!')"
      ],
      "execution_count": 11,
      "outputs": [
        {
          "output_type": "stream",
          "text": [
            "請輸入一個成績?55\n",
            "不及格ㄟ!\n"
          ],
          "name": "stdout"
        }
      ]
    }
  ]
}